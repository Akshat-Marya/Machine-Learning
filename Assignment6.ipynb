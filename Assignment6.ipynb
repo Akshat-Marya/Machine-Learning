{
 "cells": [
  {
   "cell_type": "markdown",
   "metadata": {},
   "source": [
    "9.\t[20 Marks] Implement a neural network version of an RL to solve the linear maze example and submit your program as jupyter notebook.       \n",
    "<img src=\"maze_problem.PNG\">"
   ]
  },
  {
   "cell_type": "code",
   "execution_count": 1,
   "metadata": {},
   "outputs": [
    {
     "name": "stderr",
     "output_type": "stream",
     "text": [
      "C:\\ProgramData\\Anaconda3\\lib\\site-packages\\h5py\\__init__.py:36: FutureWarning: Conversion of the second argument of issubdtype from `float` to `np.floating` is deprecated. In future, it will be treated as `np.float64 == np.dtype(float).type`.\n",
      "  from ._conv import register_converters as _register_converters\n"
     ]
    }
   ],
   "source": [
    "## Reinforcemet learning in a maze\n",
    "import numpy as np\n",
    "import random\n",
    "import tensorflow as tf\n",
    "import matplotlib.pyplot as plt\n",
    "from numpy import linalg as LA\n",
    "\n",
    "def tau (s,a):\n",
    "    if s ==0 or s == 4: \n",
    "        return (s)\n",
    "    else: \n",
    "        return (s+a)\n",
    "\n",
    "def rho (s,a):\n",
    "    return ( s==1 and a==0) + 2*( s==3 and a==1)\n",
    "\n",
    "def calc_policy (Q) :\n",
    "    policy = np.zeros(5)\n",
    "    for s in range (0,5):\n",
    "        uids = np.argmax(Q[s,:])\n",
    "        policy[s]= 2 * uids-1\n",
    "        policy[0]= policy[4]=0\n",
    "    return policy.astype(int)\n",
    "\n",
    "def idx (a):\n",
    "    return ((a + 1)/2)"
   ]
  },
  {
   "cell_type": "code",
   "execution_count": 2,
   "metadata": {},
   "outputs": [],
   "source": [
    "#initialise weights\n",
    "W = tf.Variable(tf.random_uniform([5,2]))\n",
    "input_vetor = tf.placeholder(shape=[1,5],dtype=tf.float32)\n",
    "\n",
    "#find Q value\n",
    "Q_out = tf.matmul(input_vetor,W)\n",
    "\n",
    "#initialise new_Q\n",
    "new_Q = tf.placeholder(shape=[1,2],dtype=tf.float32)\n",
    "\n",
    "#prediction max Qvalue\n",
    "prediction  = tf.argmax(Q_out,1)\n",
    "\n",
    "#find the error between maxQ and placeholder.\n",
    "loss = tf.reduce_sum(tf.square(new_Q - Q_out))\n",
    "\n",
    "#make a model that minimises this loss using gradient descent.\n",
    "model = tf.train.GradientDescentOptimizer(learning_rate=0.1)\n",
    "optimal_model = model.minimize(loss)"
   ]
  },
  {
   "cell_type": "code",
   "execution_count": 3,
   "metadata": {},
   "outputs": [
    {
     "name": "stdout",
     "output_type": "stream",
     "text": [
      "Best Policy :- [ 0 -1  1  1  0]\n"
     ]
    }
   ],
   "source": [
    "Q_table = np.array( [[ 0.,   1.,   0.5,  0.5,  0. ], [ 0.,   0.5,  1.,   2.,   0. ]])\n",
    "Qana = Q_table\n",
    "init = tf.global_variables_initializer()\n",
    "\n",
    "#learning parameters\n",
    "gamma = .05\n",
    "e = 0.1\n",
    "epoch = 670\n",
    "loss = []\n",
    "alpha=0.001\n",
    "with tf.Session() as sess:\n",
    "    sess.run(init)\n",
    "    for i in range(epoch):\n",
    "        state = np.random.randint(0,5)\n",
    "        for t in range(0,5):\n",
    "            #find the action and Q value\n",
    "            a,Q = sess.run([prediction,Q_out], feed_dict={input_vetor:np.identity(5)[state:state+1]})\n",
    "            \n",
    "            #choose the action greedly.\n",
    "            #if np.random.rand()<0.1: a=-a #epsilon greedy\n",
    "                \n",
    "            #find the new state where you end up, and the reward for current state\n",
    "            senv=tau(state,a[0]); r=rho(state,a[0]) # given by environment, not known to agent\n",
    "            \n",
    "            #find the Qvalue of the next state that you'd end up in if you take action a.\n",
    "            Q1 = sess.run(Q_out,feed_dict={input_vetor:np.identity(5)[senv:senv+1]})\n",
    "            \n",
    "            #choose the action that gives the maximum Q_value\n",
    "            Q1_max = np.max(Q1)\n",
    "            \n",
    "            #making a copy of Q and setting the current state to new state\n",
    "            Q_updated = Q\n",
    "            \n",
    "            \n",
    "            #update the Q value by considering the current state's reward and the estimated reward of future actions at a discounted value(e).\n",
    "            Q_updated[0,a[0]] = r + gamma*Q1_max\n",
    "            \n",
    "            # Train it!\n",
    "            sess.run([optimal_model,W],feed_dict={input_vetor:np.identity(5)[state:state+1],new_Q:Q_updated})\n",
    "            state=senv\n",
    "        #calculate the loss/error\n",
    "        loss.append(LA.norm(tf.global_variables()[0].eval().T - Q_table))   \n",
    "   \n",
    "    #determine the optimal policy\n",
    "    policy = calc_policy(tf.global_variables()[0].eval())\n",
    "    print('Best Policy :- '+str(policy))"
   ]
  },
  {
   "cell_type": "code",
   "execution_count": 4,
   "metadata": {},
   "outputs": [
    {
     "data": {
      "image/png": "[encoded data removed]",
      "text/plain": [
       "<matplotlib.figure.Figure at 0x1f3c9954e80>"
      ]
     },
     "metadata": {},
     "output_type": "display_data"
    }
   ],
   "source": [
    "plt.suptitle('Deep Q Learning Loss Function')\n",
    "plt.xlabel('Episodes')\n",
    "plt.ylabel('Loss')\n",
    "plt.plot(loss)\n",
    "plt.show()\n"
   ]
  },
  {
   "cell_type": "code",
   "execution_count": null,
   "metadata": {},
   "outputs": [],
   "source": []
  }
 ],
 "metadata": {
  "kernelspec": {
   "display_name": "Python 3",
   "language": "python",
   "name": "python3"
  },
  "language_info": {
   "codemirror_mode": {
    "name": "ipython",
    "version": 3
   },
   "file_extension": ".py",
   "mimetype": "text/x-python",
   "name": "python",
   "nbconvert_exporter": "python",
   "pygments_lexer": "ipython3",
   "version": "3.6.4"
  }
 },
 "nbformat": 4,
 "nbformat_minor": 2
}
